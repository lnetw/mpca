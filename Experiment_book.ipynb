{
 "cells": [
  {
   "cell_type": "code",
   "execution_count": null,
   "metadata": {},
   "outputs": [],
   "source": [
    "import function\n",
    "\n",
    "from pymongo import MongoClient\n",
    "import pandas as pd\n",
    "import numpy as np\n",
    "\n",
    "import matplotlib.pyplot as plt\n",
    "import seaborn as sns\n",
    "import plotly\n",
    "import plotly.graph_objs as go\n",
    "from plotly.subplots import make_subplots\n",
    "\n",
    "from datetime import datetime\n",
    "from time import sleep\n",
    "\n",
    "import warnings\n",
    "warnings.filterwarnings(\"ignore\")\n",
    "\n",
    "import config\n",
    "\n",
    "from IPython.display import HTML\n",
    "import random\n",
    "\n",
    "client = MongoClient(config.mongo_db)"
   ]
  },
  {
   "cell_type": "markdown",
   "metadata": {},
   "source": [
    "# 1. Выгрузка данных\n",
    "В этом разделе были выполнены действия по выгрузке нужных нам данных с датчиков конкретных процессов и рецептов. Представлен список всех выбранных процессов и отброшены процессы с неполными данными."
   ]
  },
  {
   "cell_type": "code",
   "execution_count": null,
   "metadata": {},
   "outputs": [],
   "source": [
    "series_good = list(set(['83210820','83110320','83210820','83100320','83210820','83100220',\n",
    "                       '83220920','83100220','83220920','83100220','83220920']))\n",
    "\n",
    "series_bad = list(set(['83110320','83110619','83130719','83050220','83110619','83050220','83110619','83130719','83100619',\n",
    "                      '83120719','83150719','83150719','83120719','83150719','83150719','83120719','83150719']))\n",
    "\n",
    "vessel = '2000L'\n",
    "\n",
    "list_sensor = ['sens_5_pv',\n",
    "               'tcu_1_pv',\n",
    "               'sens_9_pv',\n",
    "               'sens_1_pv',\n",
    "               'sens_2_pv',\n",
    "               'sens_39_pv',\n",
    "               'sens_40_pv',\n",
    "               'sens_7_pv',\n",
    "               'sens_3_pv',\n",
    "               'sens_4_pv',\n",
    "               'sens_38_pv',\n",
    "               'sens_11_pv',\n",
    "               'sens_12_pv',\n",
    "               'sens_13_pv',\n",
    "               'sens_14_pv',\n",
    "               'sens_15_pv',\n",
    "               'sens_16_pv',\n",
    "               'pump_3_pv',\n",
    "               'pump_4_pv',\n",
    "               'pump_5_pv',\n",
    "               'pump_6_pv',\n",
    "               'mixer_1_pv',]\n",
    "\n",
    "train = ['83110320***SUB 2000L Vessel#8',\n",
    "         '83210820***SUB 2000L Vessel#8',\n",
    "         '83100320***SUB 2000L Vessel#9',\n",
    "         '83210820***SUB 2000L Vessel#9',\n",
    "         '83100220***SUB 2000L Vessel#10',\n",
    "         '83100220***SUB 2000L Vessel#11',\n",
    "         '83220920***SUB 2000L Vessel#11',\n",
    "         '83100220***SUB 2000L Vessel#12',\n",
    "         '83220920***SUB 2000L Vessel#12',]\n",
    "\n",
    "goods_add = ['83220920***SUB 2000L Vessel#10','83210820***SUB 2000L Vessel#7']\n",
    "\n",
    "goods = ['83110320***SUB 2000L Vessel#8','83210820***SUB 2000L Vessel#8','83100320***SUB 2000L Vessel#9','83220920***SUB 2000L Vessel#10','83210820***SUB 2000L Vessel#7']\n",
    "\n",
    "bads = ['83130719***SUB 2000L Vessel#7',\n",
    "        '83150719***SUB 2000L Vessel#10', \n",
    "        '83110619***SUB 2000L Vessel#8', \n",
    "        '83130719***SUB 2000L Vessel#9', \n",
    "        '83150719***SUB 2000L Vessel#11']\n",
    "function.hide_toggle()"
   ]
  },
  {
   "cell_type": "code",
   "execution_count": null,
   "metadata": {},
   "outputs": [],
   "source": [
    "df_good = function.get_df(series_good, vessel, list_sensor)"
   ]
  },
  {
   "cell_type": "code",
   "execution_count": null,
   "metadata": {},
   "outputs": [],
   "source": [
    "df_bad = function.get_df(series_bad, vessel, list_sensor)"
   ]
  },
  {
   "cell_type": "code",
   "execution_count": null,
   "metadata": {},
   "outputs": [],
   "source": [
    "bad = df_bad[df_bad['seria'].isin(bads)]\n",
    "bad = bad.drop([1,5,15,18], axis = 0)\n",
    "trn = df_good[df_good['seria'].isin(train)]\n",
    "proc = bad.append(trn,ignore_index = True)\n",
    "good = df_good[df_good['seria'].isin(goods_add)]\n",
    "good = good.drop(1, axis = 0)\n",
    "proc = proc.append(good, ignore_index = True).reset_index(drop=True)\n",
    "proc"
   ]
  },
  {
   "cell_type": "markdown",
   "metadata": {},
   "source": [
    "# 2. Преобработка данных\n",
    "В этом разделе была выполнена предподготовка данных, отсеянны неподходящие датчики убраны пропуски, сокращена размерность данных до 2-х в соотвествии с ТЗ, выполнена стандартизация. "
   ]
  },
  {
   "cell_type": "code",
   "execution_count": null,
   "metadata": {},
   "outputs": [],
   "source": [
    "# Посчитать константные столбцы\n",
    "list_const_col = []\n",
    "for i in proc.index:\n",
    "    list_const_col.append(function.constant_feature_detect(proc['data'][i], 0.99))"
   ]
  },
  {
   "cell_type": "code",
   "execution_count": null,
   "metadata": {},
   "outputs": [],
   "source": [
    "# Возьмем и посмотрим на cписок констант\n",
    "list_const_col"
   ]
  },
  {
   "cell_type": "code",
   "execution_count": null,
   "metadata": {},
   "outputs": [],
   "source": [
    "# Отбросить неподходящие столбцы\n",
    "for i in proc.index:\n",
    "    proc['data'][i] = proc['data'][i].drop(['Датчик расхода кислорода O2-2','Датчик углекислого газа pCO2-1','Датчик pH-2',\n",
    "                                            'Датчик расхода углекислого газа CO2-1','Насос 3','Насос 4','Насос 5','Насос 6',\n",
    "                                            'Датчик расхода кислорода O2-1', 'Сенсор накопленного расхода щелочи', 'Датчик кислорода dO2-1'], axis = 1)"
   ]
  },
  {
   "cell_type": "code",
   "execution_count": null,
   "metadata": {},
   "outputs": [],
   "source": [
    "# Заменить NULL на np,nan, первести все во float.\n",
    "col = proc['data'][i].columns[1:]\n",
    "for i in proc.index:\n",
    "    proc['data'][i] = proc['data'][i].replace('NULL', None)\n",
    "    proc['data'][i][col[0]] = proc['data'][i][col[0]].astype(float)\n",
    "    proc['data'][i].fillna(proc['data'][i].mean(), inplace = True)"
   ]
  },
  {
   "cell_type": "code",
   "execution_count": null,
   "metadata": {},
   "outputs": [],
   "source": [
    "# Проверить что порядок столбцов и их кол-во одинаково  во всех процессах\n",
    "for i in range(len(proc)-1):\n",
    "    diff = proc['data'][i].columns == proc['data'][i+1].columns\n",
    "    print(set(diff), i,'-', i+1)"
   ]
  },
  {
   "cell_type": "code",
   "execution_count": null,
   "metadata": {},
   "outputs": [],
   "source": [
    "# Синхронизировать время\n",
    "proc['transform'] = ''\n",
    "for i in proc.index:\n",
    "    proc['transform'][i] = proc['data'][i].drop('TM', axis = 1).values.reshape(1,-1)[0]\n",
    "    print(i)"
   ]
  },
  {
   "attachments": {
    "image.png": {
     "image/png": "[encoded data removed]"
    }
   },
   "cell_type": "markdown",
   "metadata": {},
   "source": [
    "![image.png](attachment:image.png)"
   ]
  },
  {
   "cell_type": "code",
   "execution_count": null,
   "metadata": {},
   "outputs": [],
   "source": [
    "# Находим наименьшее число строк и обрезаем по этому процессу\n",
    "min_len =  float(\"inf\")\n",
    "\n",
    "for x in proc['transform']:\n",
    "    min_len = min(min_len, len(x))\n",
    "    \n",
    "\n",
    "train_proc = proc[proc['seria'].isin(train)].copy(deep=True)\n",
    "test_proc = proc[proc['seria'].isin(bads)].copy(deep=True)\n",
    "test_proc = test_proc.append(proc[proc['seria'].isin(goods).copy(deep=True)], ignore_index = True).reset_index()\n",
    "\n",
    "\n",
    "list_for_matrix = []\n",
    "for x in train_proc['transform']:\n",
    "    list_for_matrix.append(x[0:min_len])\n",
    "    train_matrix = np.array(list_for_matrix)\n",
    "    \n",
    "list_for_matrix = []\n",
    "for x in test_proc['transform']:\n",
    "    list_for_matrix.append(x[0:min_len])\n",
    "    test_matrix = np.array(list_for_matrix)   \n",
    "    \n",
    "count_str = train_matrix.shape[0]\n",
    "count_columns = train_matrix.shape[1]\n",
    "min_len"
   ]
  },
  {
   "cell_type": "code",
   "execution_count": null,
   "metadata": {},
   "outputs": [],
   "source": [
    "# Почему то конлфикты при работе, переведем все матрицы в float\n",
    "train_matrix = train_matrix.astype(float)\n",
    "test_matrix = test_matrix.astype(float)\n",
    "# Стандартизируем матрицы\n",
    "from sklearn.preprocessing import StandardScaler\n",
    "\n",
    "scaler = StandardScaler()\n",
    "std_train_matrix = scaler.fit_transform(train_matrix)\n",
    "std_test_matrix = scaler.transform(test_matrix)"
   ]
  },
  {
   "cell_type": "code",
   "execution_count": null,
   "metadata": {},
   "outputs": [],
   "source": [
    "for row in range(count_str):\n",
    "    for el in range(count_columns):\n",
    "        if std_train_matrix[row,el] == 0:\n",
    "            std_train_matrix[row,el] = 0.00001\n",
    "            \n",
    "            \n",
    "for row in range(0,1):\n",
    "    for el in range(count_columns):\n",
    "        if std_test_matrix[row,el] == 0:\n",
    "            std_test_matrix[row,el] = 0.00001"
   ]
  },
  {
   "cell_type": "markdown",
   "metadata": {},
   "source": [
    "# 3. NIPLAS\n",
    "В этом разделе выполнено разложение нашей общей матрицы данных, на 2 матрицы меньше, **нагрузок (p-loads)** (нужной нам для дальнейшего преобразования данных) и **счетов (t-scores)** непосредственно представление данных в новом векторном пространстве. Построен график зависимости доли восстановления данных от количества главных компонент."
   ]
  },
  {
   "attachments": {
    "image.png": {
     "image/png": "[encoded data removed]"
    }
   },
   "cell_type": "markdown",
   "metadata": {},
   "source": [
    "![image.png](attachment:image.png)"
   ]
  },
  {
   "cell_type": "code",
   "execution_count": null,
   "metadata": {},
   "outputs": [],
   "source": [
    "sum_X = sum(sum(std_train_matrix**2))\n",
    "list_E = []\n",
    "for i in range(1,10):\n",
    "    temp = function.NIPALS(std_train_matrix, i)\n",
    "    list_E.append(1-(sum(sum(temp['E'] ** 2)) / sum_X))\n",
    "plt.plot(range(1, 10), list_E)\n",
    "plt.title('Зависимость доли объясненных значений от колличества главных компонент')\n",
    "plt.xlabel(\"Колличество главных компонент\")\n",
    "plt.ylabel(\"Доля объясненных значений\")"
   ]
  },
  {
   "cell_type": "markdown",
   "metadata": {},
   "source": [
    "#### Что происходит на этом графике:\n",
    "Этот график предназначен для первичной оценки нужного нам количества главных компонент, здесь по оси Х мы видим количество главных компонент, а по оси Y доля объяснённых значений $1-\\frac{\\sum{E^2}}{\\sum{X^2}}$, здесь $\\sum{E^2}$ сумма квадратов ошибок, $\\sum{X^2}$ сумма квадратов значений изначальной матрицы. Слишком большое количество главных компонент переобучат наш алгоритм под конкретную выборку, а слишком малое не позволит адекватно восстановить наш исходный тренировочный набор данных. Выбор пал на количество главных компонент равной 100. Ниже представлено точное значение доли объясненных данных, а так же сумма ошибок по всей матрице, и наконец сравнение восстановленной матрицы данных с ее изначальным видом, при 100 главных компонентах."
   ]
  },
  {
   "cell_type": "code",
   "execution_count": null,
   "metadata": {},
   "outputs": [],
   "source": [
    "# ПРименим функцию на тренировочной выборке (колличество главных компонент определим по колличеству процессов)\n",
    "result_component = function.NIPALS(std_train_matrix, 7)\n",
    "print(f'Доля объясненных данных при количестве главных компонент равному {6+1} = ', round(list_E[6],2),'%',sep = '')\n",
    "# Высчитаем получившеюся матрицу\n",
    "train_matrix_PCA = np.dot(result_component['t'],result_component['p'].T)\n",
    "# Посмотрим на сумму ошибок \n",
    "print('Значение Е^2',sum(sum(result_component['E']**2)))\n",
    "print('Доля ошибок:',sum(sum(result_component['E']**2))/sum(sum(std_train_matrix**2)))"
   ]
  },
  {
   "cell_type": "code",
   "execution_count": null,
   "metadata": {},
   "outputs": [],
   "source": [
    "# Сравним матрицы\n",
    "print('Изначальная матрица', '\\n', std_train_matrix)\n",
    "print('Измененная матрица', '\\n', train_matrix_PCA)"
   ]
  },
  {
   "cell_type": "markdown",
   "metadata": {},
   "source": [
    "# 4. Рассчет статистик и отрисовка графиков\n",
    "В этом разделе был выполнен расчет статистик согласно ТЗ (**Q** статистики и статистики по **t счета**), результаты отображены на графиках. $Q_i = \\sum{E_i^2}$"
   ]
  },
  {
   "cell_type": "code",
   "execution_count": null,
   "metadata": {},
   "outputs": [],
   "source": [
    "F_7_1_005 = 236.7684\n",
    "F_7_1_001 = 5928.356\n",
    "\n",
    "F_2_7_005 = 4.7374\n",
    "F_2_7_001 = 9.547\n",
    "\n",
    "Q, Q_005, Q_001, D, T2_005, T2_001, S_005, S_001 = function.count_statistic(result_component['t'], result_component['E'], F_7_1_005, F_7_1_001, F_2_7_005, F_2_7_001)"
   ]
  },
  {
   "cell_type": "code",
   "execution_count": null,
   "metadata": {},
   "outputs": [],
   "source": [
    "proc.set_index(proc['seria'], inplace = True)\n",
    "label = train_proc['seria']\n",
    "function.plot_Q2(Q, Q_005, Q_001, label)"
   ]
  },
  {
   "cell_type": "markdown",
   "metadata": {},
   "source": [
    "#### Что происходит на этом графике:\n",
    "Здесь представлены значения квадрата ошибок $Q^2$ по каждому процессу, а также рассчитанные для этого Q статистики 0.05 и 0.01 доверительного интервалов. В сущности этот график показывает какой из процессов алгоритм смог восстановить плохо, а какой хорошо в соответствии с этим можно сделать вывод, является ли конкретный процесс отклонение либо он похож на предыдущие."
   ]
  },
  {
   "cell_type": "code",
   "execution_count": null,
   "metadata": {},
   "outputs": [],
   "source": [
    "function.plot_Tscore(result_component['t'],S_005,S_001, num = 5)"
   ]
  },
  {
   "cell_type": "markdown",
   "metadata": {},
   "source": [
    "#### Что происходит на этих графиках:\n",
    "На этих графиках отображены попарные представления первых 5 главных компонент, близость данных, представленных в этих координатах, может говорить нам, о том насколько эти процессы похожи или различаются между собой. Другими словами, чем ближе друг к другу точки, тем более вероятность что процесс не отличается от других, чем дальше тем хуже, также в ней можно увидеть в каком из главных компонент происходит вылет."
   ]
  },
  {
   "cell_type": "markdown",
   "metadata": {},
   "source": [
    "# 5. Применение алгоритма на тестовых данных\n",
    "В этом разделе был выполнен эксперимент по опробации алгоритма для ранее неизвестных данных, в тренировочной выборке находятся 5 заведомо \"плохих\" серий:\n",
    "\n",
    "83130719*\\*\\*\\SUB 2000L Vessel#7    \n",
    "\n",
    "83150719\\*\\*\\*SUB 2000L Vessel#10\n",
    "\n",
    "83110619\\*\\*\\*SUB 2000L Vessel#8\n",
    "\n",
    "83130719\\*\\*\\*SUB 2000L Vessel#9\n",
    "\n",
    "83150719\\*\\*\\*SUB 2000L Vessel#11\n",
    "\n",
    "5 \"хороших\" серий состоящих из 3 находящихся в тренировочной выборке:\n",
    "\n",
    "83110320\\*\\*\\*SUB 2000L Vessel#8\n",
    "\n",
    "83210820\\*\\*\\*SUB 2000L Vessel#8\n",
    "\n",
    "83100320\\*\\*\\*SUB 2000L Vessel#9\n",
    "\n",
    "и две новых для алгоритма серий:\n",
    "\n",
    "83220920\\*\\*\\*SUB 2000L Vessel#10\n",
    "\n",
    "83210820\\*\\*\\*SUB 2000L Vessel#7\n"
   ]
  },
  {
   "cell_type": "code",
   "execution_count": null,
   "metadata": {},
   "outputs": [],
   "source": [
    "def pipline(df, p_matrix):\n",
    "    \n",
    "    data = np.array(df[0:min_len])\n",
    "    \n",
    "    data = data.reshape(1,-1)\n",
    "    \n",
    "    data = data.astype(float)\n",
    "\n",
    "    data = scaler.transform(data)\n",
    "    \n",
    "    t_matrix = data @ p_matrix\n",
    "    E = data - t_matrix @ p_matrix.T\n",
    "    Q = np.sum(E**2,axis=1)\n",
    "    \n",
    "    \n",
    "    matrix_PCA = np.dot(t_matrix,p_matrix.T)\n",
    "    print('Значение Е^2',sum(sum(E**2)))\n",
    "    \n",
    "    \n",
    "    return t_matrix, E, Q"
   ]
  },
  {
   "cell_type": "code",
   "execution_count": null,
   "metadata": {},
   "outputs": [],
   "source": [
    "test_df = test_proc[test_proc['seria'] == goods[4]]['transform'].values[0]\n",
    "t_new, E, Q = pipline(test_df,result_component['p'])"
   ]
  },
  {
   "cell_type": "code",
   "execution_count": null,
   "metadata": {},
   "outputs": [],
   "source": [
    "function.plot_Q2(Q, Q_005, Q_001, [goods[2]])"
   ]
  },
  {
   "cell_type": "code",
   "execution_count": null,
   "metadata": {},
   "outputs": [],
   "source": [
    "test_df = test_proc[test_proc['seria'] == bads[0]]['transform'].values[0]\n",
    "t_new, E, Q = pipline(test_df,result_component['p'])"
   ]
  },
  {
   "cell_type": "code",
   "execution_count": null,
   "metadata": {},
   "outputs": [],
   "source": [
    "function.plot_Q2(Q, Q_005, Q_001, [bads[0]])"
   ]
  },
  {
   "cell_type": "code",
   "execution_count": null,
   "metadata": {},
   "outputs": [],
   "source": [
    "t_matrix = std_test_matrix @ result_component['p']\n",
    "E = std_test_matrix - t_matrix @ result_component['p'].T\n",
    "Q = np.sum(E**2,axis=1)\n",
    "matrix_PCA = np.dot(t_matrix,result_component['p'].T)\n",
    "print('Значение Е^2',sum(sum(E**2)))"
   ]
  },
  {
   "cell_type": "code",
   "execution_count": null,
   "metadata": {},
   "outputs": [],
   "source": [
    "label = test_proc['seria'].values\n",
    "function.plot_Q2(Q, Q_005, Q_001, label)"
   ]
  },
  {
   "cell_type": "markdown",
   "metadata": {},
   "source": [
    "Видно что первые 4 процесса (которые являются плохими) выходят сильно вперед, да так сильно что на графиках остальные и не видно, отобразим значениях квадрата их ошибок в таблицу:"
   ]
  },
  {
   "cell_type": "code",
   "execution_count": null,
   "metadata": {},
   "outputs": [],
   "source": [
    "pd.DataFrame(np.round(Q,2).reshape(-1,1), index = list(test_proc.seria), columns = ['E^2'])"
   ]
  },
  {
   "cell_type": "markdown",
   "metadata": {},
   "source": [
    "Здесь первые 5 это ошибки явно \"плохих\" процессов и видно что они измеряются примерно в миллиардах и сотнях тысяч, а последние 5 это явно хорошие, причем ожидаемо что тренировочные данные показывают совсем небольшие значения ошибок, а новые показывают значения ошибок равные десяткам тысяч. Таким образом алгоритм смог ретроспективно  отделить (хоть и апеллируя слишком большими значениями ошибок) какие процессы протекали хорошо, а какие плохо.\n",
    "\n",
    "Кроме того, значения квадрата ошибок полученных, при подача процесса по 1 и всего множества сразу совпали, а значит алгоритм способен адекватно оценивать как 1 так и сразу множество процессов.\n",
    "\n",
    "Перейдем теперь к анализу t-score статистик, ниже будет представлен график представления test в координатах новых 3 и 4 главной компонент (так как они вышли наиболее подходящими для демонстрации, на других тоже видно но не так отчетливо):"
   ]
  },
  {
   "cell_type": "code",
   "execution_count": null,
   "metadata": {},
   "outputs": [],
   "source": [
    "function.plot_Tscore(t_matrix,S_005,S_001, num = 5)"
   ]
  },
  {
   "cell_type": "markdown",
   "metadata": {},
   "source": [
    "Здесь можно наблюдать 5 наиболее близких к друг другу процессов, другие же 5 находится далеко от них, это означает что в представлениях полученных нами главных компонент 5 \"хороших\" процессов лежат очень близко друг к другу и могут принадлежать к одному кластеру (как раз то что нам надо), а 5 других являются своего рода выбросами лежат очень далеко друг от друга и не образуют кластеров.\n",
    "\n",
    "Подводя итоги можно сказать, что в первом приближении при недостаточности данных алгоритм неплохо справился с поставленной задачей, значения ошибок хоть и велики, но значимо отличимые для хороших и плохих серий вне тренировочной выборки. На графиках t-score статистик хорошо видно кластер \"хороших\" процессов. Для дальнейшего исследования алгоритма и целесообразности его применения а практике, нужно собрать больше данных по процессам, и провести еще ряд экспериментов подобных этому."
   ]
  }
 ],
 "metadata": {
  "kernelspec": {
   "display_name": "Python 3",
   "language": "python",
   "name": "python3"
  },
  "language_info": {
   "codemirror_mode": {
    "name": "ipython",
    "version": 3
   },
   "file_extension": ".py",
   "mimetype": "text/x-python",
   "name": "python",
   "nbconvert_exporter": "python",
   "pygments_lexer": "ipython3",
   "version": "3.7.6"
  }
 },
 "nbformat": 4,
 "nbformat_minor": 4
}
